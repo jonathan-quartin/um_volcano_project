{
 "cells": [
  {
   "cell_type": "code",
   "execution_count": 18,
   "metadata": {},
   "outputs": [],
   "source": [
    "import pandas as pd \n",
    "import sklearn\n",
    "import numpy as np\n",
    "import matplotlib.pyplot as plt\n",
    "import csv\n",
    "from datetime import datetime\n",
    "import random\n",
    "import seaborn as sns\n",
    "import matplotlib.colors as mcolors\n",
    "import matplotlib.cm as cm"
   ]
  },
  {
   "cell_type": "code",
   "execution_count": 2,
   "metadata": {},
   "outputs": [],
   "source": [
    "# Import tables\n",
    "\n",
    "# These are for Piton de la Fournaise\n",
    "#eruptions = pd.read_csv(\"eruptions_reunion.csv\")\n",
    "#average_rain = pd.read_csv(\"average_reunion.csv\")\n",
    "\n",
    "# These are all for the Galapagos\n",
    "eruptions = pd.read_csv(\"eruptions_galapagos.csv\")\n",
    "#climate_bellavista = pd.read_csv(\"climate_bellavista.csv\")\n",
    "#average_rain = climate_bellavista[['observation_date', 'precipitation']]\n",
    "climate_ayora = pd.read_csv(\"climate_puerto-ayora.csv\")\n",
    "average_ayora = climate_ayora[['observation_date', 'precipitation']]\n",
    "\n",
    "# This is the ONI water surface temperature for El Nino\n",
    "oni = pd.read_csv(\"oni.csv\")"
   ]
  },
  {
   "cell_type": "code",
   "execution_count": 3,
   "metadata": {},
   "outputs": [],
   "source": [
    "def date_to_decimal_year(date_str):\n",
    "    date_obj = datetime.strptime(date_str, '%Y-%m-%d')\n",
    "    year = date_obj.year\n",
    "    day_of_year = date_obj.timetuple().tm_yday\n",
    "    decimal_year = year + (day_of_year - 1) / 365.0\n",
    "    decimal_year = round(decimal_year,4) \n",
    "    return decimal_year"
   ]
  },
  {
   "cell_type": "code",
   "execution_count": 4,
   "metadata": {},
   "outputs": [],
   "source": [
    "# Converts date information from ONI into numerical format\n",
    "\n",
    "date_converter = {'DJF': ('12', '03', '01'), 'JFM': ('01', '04', '02'), 'FMA': ('02', '05', '03'), 'MAM': ('03', '06', '04'), 'AMJ': ('04', '07', '05'), 'MJJ': ('05', '08', '06'), 'JJA': ('06', '09', '07'), 'JAS': ('07', '10', '08'), 'ASO': ('08', '11', '09'), 'SON': ('09', '12', '10'), 'OND': ('10', '01', '11'), 'NDJ': ('11', '02', '12')}\n",
    "\n",
    "def convert_start(row):\n",
    "    if row['SEAS'] == 'DJF':\n",
    "        return str(row['YR']-1) + '-' + date_converter[row['SEAS']][0] + '-01'\n",
    "    else:\n",
    "        return str(row['YR']) + '-' + date_converter[row['SEAS']][0] + '-01' \n",
    "\n",
    "def convert_end(row):\n",
    "    if row['SEAS'] == 'NDJ':\n",
    "        return str(row['YR']+1) + '-' + date_converter[row['SEAS']][1] + '-01'\n",
    "    else: \n",
    "        return str(row['YR']) + '-' + date_converter[row['SEAS']][1] + '-01' \n",
    "\n",
    "def convert_mid(row):\n",
    "    return str(row['YR']) + '-' + date_converter[row['SEAS']][2] + '-15' \n",
    "\n",
    "oni['Start'] = oni.apply(convert_start, axis=1)\n",
    "oni['End'] = oni.apply(convert_end, axis=1)\n",
    "oni['Center'] = oni.apply(convert_mid, axis=1)"
   ]
  },
  {
   "cell_type": "code",
   "execution_count": 5,
   "metadata": {},
   "outputs": [],
   "source": [
    "el_nino = oni[oni['ANOM'] >= .5]"
   ]
  },
  {
   "cell_type": "code",
   "execution_count": 6,
   "metadata": {},
   "outputs": [
    {
     "name": "stderr",
     "output_type": "stream",
     "text": [
      "/var/folders/d0/48hh0ndj2v59mjry93b9grn00000gn/T/ipykernel_38933/2819683953.py:9: FutureWarning: The frame.append method is deprecated and will be removed from pandas in a future version. Use pandas.concat instead.\n",
      "  non_nino_eruptions = non_nino_eruptions.append(i[1], ignore_index= True)\n",
      "/var/folders/d0/48hh0ndj2v59mjry93b9grn00000gn/T/ipykernel_38933/2819683953.py:9: FutureWarning: The frame.append method is deprecated and will be removed from pandas in a future version. Use pandas.concat instead.\n",
      "  non_nino_eruptions = non_nino_eruptions.append(i[1], ignore_index= True)\n",
      "/var/folders/d0/48hh0ndj2v59mjry93b9grn00000gn/T/ipykernel_38933/2819683953.py:9: FutureWarning: The frame.append method is deprecated and will be removed from pandas in a future version. Use pandas.concat instead.\n",
      "  non_nino_eruptions = non_nino_eruptions.append(i[1], ignore_index= True)\n",
      "/var/folders/d0/48hh0ndj2v59mjry93b9grn00000gn/T/ipykernel_38933/2819683953.py:9: FutureWarning: The frame.append method is deprecated and will be removed from pandas in a future version. Use pandas.concat instead.\n",
      "  non_nino_eruptions = non_nino_eruptions.append(i[1], ignore_index= True)\n",
      "/var/folders/d0/48hh0ndj2v59mjry93b9grn00000gn/T/ipykernel_38933/2819683953.py:9: FutureWarning: The frame.append method is deprecated and will be removed from pandas in a future version. Use pandas.concat instead.\n",
      "  non_nino_eruptions = non_nino_eruptions.append(i[1], ignore_index= True)\n",
      "/var/folders/d0/48hh0ndj2v59mjry93b9grn00000gn/T/ipykernel_38933/2819683953.py:9: FutureWarning: The frame.append method is deprecated and will be removed from pandas in a future version. Use pandas.concat instead.\n",
      "  non_nino_eruptions = non_nino_eruptions.append(i[1], ignore_index= True)\n",
      "/var/folders/d0/48hh0ndj2v59mjry93b9grn00000gn/T/ipykernel_38933/2819683953.py:9: FutureWarning: The frame.append method is deprecated and will be removed from pandas in a future version. Use pandas.concat instead.\n",
      "  non_nino_eruptions = non_nino_eruptions.append(i[1], ignore_index= True)\n",
      "/var/folders/d0/48hh0ndj2v59mjry93b9grn00000gn/T/ipykernel_38933/2819683953.py:9: FutureWarning: The frame.append method is deprecated and will be removed from pandas in a future version. Use pandas.concat instead.\n",
      "  non_nino_eruptions = non_nino_eruptions.append(i[1], ignore_index= True)\n",
      "/var/folders/d0/48hh0ndj2v59mjry93b9grn00000gn/T/ipykernel_38933/2819683953.py:9: FutureWarning: The frame.append method is deprecated and will be removed from pandas in a future version. Use pandas.concat instead.\n",
      "  non_nino_eruptions = non_nino_eruptions.append(i[1], ignore_index= True)\n",
      "/var/folders/d0/48hh0ndj2v59mjry93b9grn00000gn/T/ipykernel_38933/2819683953.py:9: FutureWarning: The frame.append method is deprecated and will be removed from pandas in a future version. Use pandas.concat instead.\n",
      "  non_nino_eruptions = non_nino_eruptions.append(i[1], ignore_index= True)\n",
      "/var/folders/d0/48hh0ndj2v59mjry93b9grn00000gn/T/ipykernel_38933/2819683953.py:9: FutureWarning: The frame.append method is deprecated and will be removed from pandas in a future version. Use pandas.concat instead.\n",
      "  non_nino_eruptions = non_nino_eruptions.append(i[1], ignore_index= True)\n",
      "/var/folders/d0/48hh0ndj2v59mjry93b9grn00000gn/T/ipykernel_38933/2819683953.py:9: FutureWarning: The frame.append method is deprecated and will be removed from pandas in a future version. Use pandas.concat instead.\n",
      "  non_nino_eruptions = non_nino_eruptions.append(i[1], ignore_index= True)\n",
      "/var/folders/d0/48hh0ndj2v59mjry93b9grn00000gn/T/ipykernel_38933/2819683953.py:9: FutureWarning: The frame.append method is deprecated and will be removed from pandas in a future version. Use pandas.concat instead.\n",
      "  non_nino_eruptions = non_nino_eruptions.append(i[1], ignore_index= True)\n",
      "/var/folders/d0/48hh0ndj2v59mjry93b9grn00000gn/T/ipykernel_38933/2819683953.py:9: FutureWarning: The frame.append method is deprecated and will be removed from pandas in a future version. Use pandas.concat instead.\n",
      "  non_nino_eruptions = non_nino_eruptions.append(i[1], ignore_index= True)\n",
      "/var/folders/d0/48hh0ndj2v59mjry93b9grn00000gn/T/ipykernel_38933/2819683953.py:9: FutureWarning: The frame.append method is deprecated and will be removed from pandas in a future version. Use pandas.concat instead.\n",
      "  non_nino_eruptions = non_nino_eruptions.append(i[1], ignore_index= True)\n",
      "/var/folders/d0/48hh0ndj2v59mjry93b9grn00000gn/T/ipykernel_38933/2819683953.py:9: FutureWarning: The frame.append method is deprecated and will be removed from pandas in a future version. Use pandas.concat instead.\n",
      "  non_nino_eruptions = non_nino_eruptions.append(i[1], ignore_index= True)\n",
      "/var/folders/d0/48hh0ndj2v59mjry93b9grn00000gn/T/ipykernel_38933/2819683953.py:9: FutureWarning: The frame.append method is deprecated and will be removed from pandas in a future version. Use pandas.concat instead.\n",
      "  non_nino_eruptions = non_nino_eruptions.append(i[1], ignore_index= True)\n",
      "/var/folders/d0/48hh0ndj2v59mjry93b9grn00000gn/T/ipykernel_38933/2819683953.py:9: FutureWarning: The frame.append method is deprecated and will be removed from pandas in a future version. Use pandas.concat instead.\n",
      "  non_nino_eruptions = non_nino_eruptions.append(i[1], ignore_index= True)\n",
      "/var/folders/d0/48hh0ndj2v59mjry93b9grn00000gn/T/ipykernel_38933/2819683953.py:9: FutureWarning: The frame.append method is deprecated and will be removed from pandas in a future version. Use pandas.concat instead.\n",
      "  non_nino_eruptions = non_nino_eruptions.append(i[1], ignore_index= True)\n",
      "/var/folders/d0/48hh0ndj2v59mjry93b9grn00000gn/T/ipykernel_38933/2819683953.py:9: FutureWarning: The frame.append method is deprecated and will be removed from pandas in a future version. Use pandas.concat instead.\n",
      "  non_nino_eruptions = non_nino_eruptions.append(i[1], ignore_index= True)\n",
      "/var/folders/d0/48hh0ndj2v59mjry93b9grn00000gn/T/ipykernel_38933/2819683953.py:9: FutureWarning: The frame.append method is deprecated and will be removed from pandas in a future version. Use pandas.concat instead.\n",
      "  non_nino_eruptions = non_nino_eruptions.append(i[1], ignore_index= True)\n",
      "/var/folders/d0/48hh0ndj2v59mjry93b9grn00000gn/T/ipykernel_38933/2819683953.py:9: FutureWarning: The frame.append method is deprecated and will be removed from pandas in a future version. Use pandas.concat instead.\n",
      "  non_nino_eruptions = non_nino_eruptions.append(i[1], ignore_index= True)\n"
     ]
    }
   ],
   "source": [
    "non_nino_eruptions = pd.DataFrame()\n",
    "for i in eruptions.iterrows():\n",
    "    add = True\n",
    "    for j in el_nino.iterrows():\n",
    "        if i[1][1] >= j[1][4] and i[1][1] < j[1][5]:\n",
    "            add = False\n",
    "            break\n",
    "    if add == True:\n",
    "        non_nino_eruptions = non_nino_eruptions.append(i[1], ignore_index= True)\n",
    "\n"
   ]
  },
  {
   "cell_type": "code",
   "execution_count": 32,
   "metadata": {},
   "outputs": [
    {
     "name": "stdout",
     "output_type": "stream",
     "text": [
      "          Volcano       Start         End  Max Explosivity\n",
      "0   Negra, Sierra  2005-10-22  2005-10-30                3\n",
      "1   Negra, Sierra  2018-06-26  2018-08-23                2\n",
      "2   Negra, Sierra  1963-04-13  1963-05-16                2\n",
      "3     Azul, Cerro  2008-05-29  2008-06-17                1\n",
      "4     Azul, Cerro  1979-01-29  1979-03-04                2\n",
      "5     Azul, Cerro  1998-09-15  1998-10-21                1\n",
      "6      Fernandina  1961-03-21  1961-09-16                2\n",
      "7      Fernandina  1968-05-21  1968-05-23                2\n",
      "8      Fernandina  1973-12-09  1973-12-16                2\n",
      "9      Fernandina  1978-08-08  1978-08-26                2\n",
      "10     Fernandina  1981-08-01        None                0\n",
      "11     Fernandina  1984-03-30        None                1\n",
      "12     Fernandina  1988-09-14  1988-09-16                2\n",
      "13     Fernandina  1991-04-19  1991-04-24                2\n",
      "14     Fernandina  2005-05-13  2005-05-29                2\n",
      "15     Fernandina  2009-04-10  2009-04-28                2\n",
      "16     Fernandina  2017-09-04  2017-09-07                2\n",
      "17     Fernandina  2018-06-16  2018-06-21                1\n",
      "18           Wolf  2022-01-06  2022-04-14                2\n",
      "19           Wolf  1963-03-04  1963-03-16                0\n",
      "20         Alcedo  1993-12-05        None                1\n",
      "21    Azul, Cerro  1967-08-09        None                2\n"
     ]
    }
   ],
   "source": [
    "print(non_nino_eruptions)"
   ]
  },
  {
   "cell_type": "code",
   "execution_count": 38,
   "metadata": {},
   "outputs": [
    {
     "data": {
      "image/png": "[encoded data removed]",
      "text/plain": [
       "<Figure size 864x648 with 1 Axes>"
      ]
     },
     "metadata": {
      "needs_background": "light"
     },
     "output_type": "display_data"
    }
   ],
   "source": [
    "# Breaks up rain by month\n",
    "erupt_dates = non_nino_eruptions['Start'][non_nino_eruptions['Start'] >= '1965']\n",
    "decimal_erupts = np.array(erupt_dates.apply(date_to_decimal_year))\n",
    "x = [((i + (2/12)) % 1) for i in decimal_erupts]\n",
    "plt.figure(figsize=(12,9))\n",
    "\n",
    "plt.hist(x, bins=12)\n",
    "plt.xticks([(1/12)*k for k in range(12)], ['11', '12', '01', '02', '03', '04', '05', '06', '07', '08', '09', '10'])\n",
    "plt.xlabel(\"Month\") \n",
    "plt.ylabel(\"Number of eruptions\") \n",
    "plt.title('Eruptions by month, non-Nino') \n",
    "plt.show() "
   ]
  },
  {
   "cell_type": "code",
   "execution_count": 36,
   "metadata": {},
   "outputs": [
    {
     "name": "stdout",
     "output_type": "stream",
     "text": [
      "[12  8  7  3 11  7  2 10  9  5 11  6  7  6 11  8  3  2 10]\n",
      "[[0. 2. 2. 0. 1. 2. 3. 2. 1. 2. 3. 1.]]\n"
     ]
    },
    {
     "data": {
      "image/png": "[encoded data removed]",
      "text/plain": [
       "<Figure size 864x288 with 2 Axes>"
      ]
     },
     "metadata": {
      "needs_background": "light"
     },
     "output_type": "display_data"
    }
   ],
   "source": [
    "erupt_dates = non_nino_eruptions['Start'][non_nino_eruptions['Start'] >= '1965']\n",
    "decimal_erupts = np.array(erupt_dates.apply(date_to_decimal_year))\n",
    "x = [((i + (2/12)) % 1) for i in decimal_erupts]\n",
    "bin_edges = [i * 1/12 for i in range(12)]\n",
    "bin_indices = np.digitize(x, bin_edges)\n",
    "print(bin_indices)\n",
    "data = np.random.rand(1, 12)\n",
    "for i in range(data.shape[1]):\n",
    "    data[0][i] = np.sum(bin_indices == i+1)\n",
    "print(data)\n",
    "plt.figure(figsize=(12,4))\n",
    "sns.heatmap(data, annot=True, fmt=\".2f\", cmap=\"YlGnBu\")\n",
    "plt.title(\"Heatmap Example\")\n",
    "plt.xlabel(\"X-axis labels\")\n",
    "plt.ylabel(\"Y-axis labels\")\n",
    "plt.show()"
   ]
  }
 ],
 "metadata": {
  "kernelspec": {
   "display_name": "base",
   "language": "python",
   "name": "python3"
  },
  "language_info": {
   "codemirror_mode": {
    "name": "ipython",
    "version": 3
   },
   "file_extension": ".py",
   "mimetype": "text/x-python",
   "name": "python",
   "nbconvert_exporter": "python",
   "pygments_lexer": "ipython3",
   "version": "3.9.12"
  }
 },
 "nbformat": 4,
 "nbformat_minor": 2
}
