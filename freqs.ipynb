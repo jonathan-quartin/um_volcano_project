{
 "cells": [
  {
   "cell_type": "code",
   "execution_count": 2,
   "metadata": {},
   "outputs": [],
   "source": [
    "import pandas as pd \n",
    "import sklearn\n",
    "import numpy as np\n",
    "import matplotlib.pyplot as plt\n",
    "import csv\n",
    "from datetime import datetime\n",
    "import random"
   ]
  },
  {
   "cell_type": "code",
   "execution_count": 3,
   "metadata": {},
   "outputs": [],
   "source": [
    "# Import tables\n",
    "eruptions = pd.read_csv(\"eruptions_galapagos.csv\")\n",
    "average_galapagos = pd.read_csv(\"average_galapagos.csv\")"
   ]
  },
  {
   "cell_type": "code",
   "execution_count": 5,
   "metadata": {},
   "outputs": [],
   "source": [
    "def date_to_decimal_year(date_str):\n",
    "    date_obj = datetime.strptime(date_str, '%Y-%m-%d')\n",
    "    year = date_obj.year\n",
    "    day_of_year = date_obj.timetuple().tm_yday\n",
    "    decimal_year = year + (day_of_year - 1) / 365.0\n",
    "    decimal_year = round(decimal_year,4) \n",
    "    return decimal_year"
   ]
  },
  {
   "cell_type": "code",
   "execution_count": 72,
   "metadata": {},
   "outputs": [],
   "source": [
    "def accuracies(rolling_numbers, percents):\n",
    "        rolling_galapagos = average_galapagos.copy()\n",
    "        rain_start = '11-01'\n",
    "        rain_end = '10-31'\n",
    "        erupt_dates = eruptions['Start'][eruptions['Start'] >= '2004-11-01']\n",
    "        predictions = []\n",
    "        \n",
    "        for i in rolling_numbers:\n",
    "                \n",
    "                rolling_galapagos['roll' + str(i)] = average_galapagos.Precipitation.rolling(i).mean()\n",
    "                rolling_galapagos = rolling_galapagos.dropna()\n",
    "                \n",
    "                for j in percents:\n",
    "                        \n",
    "                        season_length = int((j * 365) / 100)\n",
    "                        rainy_dates = pd.DataFrame()\n",
    "                        \n",
    "                        for k in range(18):\n",
    "                                year = 2004 + k\n",
    "                                yearly_rain = rolling_galapagos[(rolling_galapagos['Date'] >= str(year) + '-' + rain_start) & (rolling_galapagos['Date'] <= str(year + 1) + '-' + rain_end)].sort_values(by=['roll' + str(i)])\n",
    "                                rainy_dates = rainy_dates.append(yearly_rain[-(season_length+1):-1])\n",
    "\n",
    "                        rain_erup_freq = 0\n",
    "                        for l in erupt_dates:\n",
    "                                if l in np.array(rainy_dates['Date']):\n",
    "                                        rain_erup_freq += 1\n",
    "\n",
    "                        predictions.append([i, j, rain_erup_freq / len(erupt_dates)])\n",
    "\n",
    "        return predictions\n"
   ]
  },
  {
   "cell_type": "code",
   "execution_count": 73,
   "metadata": {},
   "outputs": [],
   "source": [
    "# # Creates the blank csv file\n",
    "\n",
    "# csv_file_name = 'eruption_accuracies.csv'\n",
    "# #Fix this so that it doesnt overwrite the header\n",
    "\n",
    "# column_names = ['Rolling sums (days)', 'Rainy season (fraction of year)', 'Fraction of eruptions in rainy season', 'Prediction improvement']\n",
    "\n",
    "# # Open the CSV file in write mode ('w', 'wb', or 'w+', depending on your Python version).\n",
    "# with open(csv_file_name, mode='w', newline='') as csv_file:\n",
    "#     # Create a DictWriter object with the column names.\n",
    "#     csv_writer = csv.DictWriter(csv_file, fieldnames=column_names)\n",
    "\n",
    "#     # Write the header (column names) to the CSV file.\n",
    "#     csv_writer.writeheader()"
   ]
  },
  {
   "cell_type": "code",
   "execution_count": 7,
   "metadata": {},
   "outputs": [],
   "source": [
    "# # Fills the blank csv file\n",
    "\n",
    "# # Choose rolling number and length of rainy season\n",
    "# rolling_numbers = [30, 60, 90, 120]\n",
    "# percents = [5, 10, 15, 20, 25, 30]\n",
    "\n",
    "# predictions = accuracies(rolling_numbers, percents)\n",
    "\n",
    "# for i in predictions:\n",
    "#     with open('eruption_accuracies.csv', mode='a', newline='') as main:\n",
    "#         csv_writer = csv.writer(main)\n",
    "#         csv_writer.writerow([i[0], i[1]/100, round(i[2],2), round(100*((100*i[2])-i[1])/i[1],2)])\n",
    "\n",
    "\n",
    "\n",
    "# # x = [i[0] for i in predictions]\n",
    "# # y = [i[1] for i in predictions]\n",
    "\n",
    "# # fig = plt.figure(figsize=(8,6))\n",
    "# # ax = fig.add_subplot(111)\n",
    "\n",
    "# # plt.scatter(x, y, c='green', s=300)\n",
    "\n",
    "# # plt.show()"
   ]
  },
  {
   "cell_type": "code",
   "execution_count": 24,
   "metadata": {},
   "outputs": [
    {
     "data": {
      "image/png": "[encoded data removed]",
      "text/plain": [
       "<Figure size 648x864 with 1 Axes>"
      ]
     },
     "metadata": {
      "needs_background": "light"
     },
     "output_type": "display_data"
    }
   ],
   "source": [
    "# Generates the rainy season plot\n",
    "\n",
    "rolling_galapagos = average_galapagos.copy()\n",
    "rain_start = '11-01'\n",
    "rain_end = '10-31'\n",
    "rolling_galapagos['roll90'] = average_galapagos.Precipitation.rolling(90).mean()\n",
    "rolling_galapagos = rolling_galapagos.dropna()\n",
    "\n",
    "plt.figure(figsize=(9,12))\n",
    "\n",
    "erupt_dates = eruptions['Start'][eruptions['Start'] >= '2004-11-01']\n",
    "decimal_erupts = np.array(erupt_dates.apply(date_to_decimal_year))\n",
    "x = [((i + (2/12)) % 1) for i in decimal_erupts]\n",
    "y = [(i + (2/12)) // 1 for i in decimal_erupts]\n",
    "labels = list(eruptions['Volcano'][eruptions['Start'] >= '2004-11-01'])\n",
    "plt.scatter(x, y, color='maroon')\n",
    "for i in range(len(x)):\n",
    "    plt.annotate(labels[i][0:2], (x[i], y[i]), textcoords=\"offset points\", xytext=(0,10), ha='center')\n",
    "\n",
    "\n",
    "for k in range(24):\n",
    "        year = 2000 + k\n",
    "        yearly_rain = rolling_galapagos[(rolling_galapagos['Date'] >= str(year) + '-' + rain_start) & (rolling_galapagos['Date'] <= str(year + 1) + '-' + rain_end)].sort_values(by=['roll90'])\n",
    "        rainy_season = yearly_rain[-73:-1].sort_values(by=['Date'])\n",
    "        if k == 20:\n",
    "                x = np.array((rainy_season['Date'][rainy_season['Date'] < '2021-10-01'].apply(date_to_decimal_year) + (2/12)) % 1)\n",
    "                y = np.array((rainy_season['Date'][rainy_season['Date'] < '2021-10-01'].apply(date_to_decimal_year) + (2/12)) // 1)\n",
    "                plt.plot(x, y, color='black')\n",
    "\n",
    "                x = np.array((rainy_season['Date'][rainy_season['Date'] > '2021-10-01'].apply(date_to_decimal_year) + (2/12)) % 1)\n",
    "                y = np.array((rainy_season['Date'][rainy_season['Date'] > '2021-10-01'].apply(date_to_decimal_year) + (2/12)) // 1)\n",
    "                plt.plot(x, y, color='black')\n",
    "                \n",
    "        else:\n",
    "                x = np.array((rainy_season['Date'].apply(date_to_decimal_year) + (2/12)) % 1)\n",
    "                y = np.array((rainy_season['Date'].apply(date_to_decimal_year) + (2/12)) // 1)\n",
    "                plt.plot(x, y, color='black')\n",
    "\n",
    "plt.yticks([2000+k for k in range(24)], [str(1999+k) + '-' + str(2000+k)[2:4] for k in range(24)])\n",
    "plt.xticks([(1/12)*k for k in range(12)], ['11', '12', '01', '02', '03', '04', '05', '06', '07', '08', '09', '10'])\n",
    "plt.xlabel(\"Month\") \n",
    "plt.ylabel(\"Year\") \n",
    "plt.title('Rainy Seasons') \n",
    "plt.show() "
   ]
  }
 ],
 "metadata": {
  "kernelspec": {
   "display_name": "base",
   "language": "python",
   "name": "python3"
  },
  "language_info": {
   "codemirror_mode": {
    "name": "ipython",
    "version": 3
   },
   "file_extension": ".py",
   "mimetype": "text/x-python",
   "name": "python",
   "nbconvert_exporter": "python",
   "pygments_lexer": "ipython3",
   "version": "3.9.12"
  },
  "orig_nbformat": 4
 },
 "nbformat": 4,
 "nbformat_minor": 2
}
