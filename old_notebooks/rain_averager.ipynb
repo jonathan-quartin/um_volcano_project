{
 "cells": [
  {
   "cell_type": "code",
   "execution_count": 1,
   "metadata": {},
   "outputs": [],
   "source": [
    "import pandas as pd \n",
    "import sklearn\n",
    "import numpy as np\n",
    "import matplotlib.pyplot as plt\n",
    "import csv\n",
    "from datetime import datetime\n",
    "import random\n",
    "import os"
   ]
  },
  {
   "cell_type": "code",
   "execution_count": 2,
   "metadata": {},
   "outputs": [],
   "source": [
    "folder_path = '/Users/jonathanquartin/Documents/Coding/GitHub/um_volcano_project/GALAPAGOS_DATA'"
   ]
  },
  {
   "cell_type": "code",
   "execution_count": 3,
   "metadata": {},
   "outputs": [],
   "source": [
    "# Import tables\n",
    "#rainfall = pd.read_csv(os.path.join(folder_path, \"precipitation_galapagos.csv\"))\n",
    "rainfall = pd.read_csv(os.path.join(folder_path, \"precipitation_reunion.csv\"))\n",
    "average_galapagos = pd.read_csv(os.path.join(folder_path, \"average_galapagos.csv\"))"
   ]
  },
  {
   "cell_type": "code",
   "execution_count": null,
   "metadata": {},
   "outputs": [],
   "source": [
    "# csv_file_name = 'average_galapagos.csv'\n",
    "# #Fix this so that it doesnt overwrite the header\n",
    "\n",
    "# column_names = ['Date', 'Precipitation']\n",
    "\n",
    "# # Open the CSV file in write mode ('w', 'wb', or 'w+', depending on your Python version).\n",
    "# with open(csv_file_name, mode='w', newline='') as csv_file:\n",
    "#     # Create a DictWriter object with the column names.\n",
    "#     csv_writer = csv.DictWriter(csv_file, fieldnames=column_names)\n",
    "\n",
    "#     # Write the header (column names) to the CSV file.\n",
    "#     csv_writer.writeheader()"
   ]
  },
  {
   "cell_type": "code",
   "execution_count": 3,
   "metadata": {},
   "outputs": [],
   "source": [
    "# csv_file_name = 'average_reunion.csv'\n",
    "# #Fix this so that it doesnt overwrite the header\n",
    "\n",
    "# column_names = ['Date', 'Precipitation']\n",
    "\n",
    "# # Open the CSV file in write mode ('w', 'wb', or 'w+', depending on your Python version).\n",
    "# with open(csv_file_name, mode='w', newline='') as csv_file:\n",
    "#     # Create a DictWriter object with the column names.\n",
    "#     csv_writer = csv.DictWriter(csv_file, fieldnames=column_names)\n",
    "\n",
    "#     # Write the header (column names) to the CSV file.\n",
    "#     csv_writer.writeheader()"
   ]
  },
  {
   "cell_type": "code",
   "execution_count": 4,
   "metadata": {},
   "outputs": [],
   "source": [
    "dates = np.sort(rainfall['Date'].unique())"
   ]
  },
  {
   "cell_type": "code",
   "execution_count": 5,
   "metadata": {},
   "outputs": [],
   "source": [
    "# # Create a Galapagos average rainfall table. This will take at least 2 hours (run for a little tonight)\n",
    "\n",
    "# for i in dates:\n",
    "#     with open('average_reunion.csv', mode='a', newline='') as main:\n",
    "#         csv_writer = csv.writer(main)\n",
    "#         csv_writer.writerow([i, rainfall['Precipitation'][rainfall['Date'] == i].mean()])"
   ]
  },
  {
   "cell_type": "code",
   "execution_count": 16,
   "metadata": {},
   "outputs": [],
   "source": [
    "# Oddly the last row had something weird in it that said Wolf, 1.75. This removed it.\n",
    "\n",
    "# csv_file_path = 'average_galapagos.csv'\n",
    "\n",
    "# # Read the CSV content into a list\n",
    "# with open(csv_file_path, 'r', newline='') as file:\n",
    "#     csv_reader = csv.reader(file)\n",
    "#     data = list(csv_reader)\n",
    "\n",
    "# # Remove the last row\n",
    "# if data:\n",
    "#     data.pop()\n",
    "\n",
    "# # Open the same CSV file in write mode\n",
    "# with open(csv_file_path, 'w', newline='') as file:\n",
    "#     csv_writer = csv.writer(file)\n",
    "\n",
    "#     # Write the modified data (without the last row) back to the CSV file\n",
    "#     for row in data:\n",
    "#         csv_writer.writerow(row)"
   ]
  }
 ],
 "metadata": {
  "kernelspec": {
   "display_name": "base",
   "language": "python",
   "name": "python3"
  },
  "language_info": {
   "codemirror_mode": {
    "name": "ipython",
    "version": 3
   },
   "file_extension": ".py",
   "mimetype": "text/x-python",
   "name": "python",
   "nbconvert_exporter": "python",
   "pygments_lexer": "ipython3",
   "version": "3.9.12"
  },
  "orig_nbformat": 4
 },
 "nbformat": 4,
 "nbformat_minor": 2
}
