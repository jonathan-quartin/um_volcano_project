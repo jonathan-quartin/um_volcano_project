{
 "cells": [
  {
   "cell_type": "code",
   "execution_count": 1,
   "metadata": {},
   "outputs": [],
   "source": [
    "import pandas as pd \n",
    "import sklearn\n",
    "import numpy as np\n",
    "import matplotlib.pyplot as plt\n",
    "import csv\n",
    "from datetime import datetime\n",
    "import random\n",
    "import os"
   ]
  },
  {
   "cell_type": "code",
   "execution_count": 2,
   "metadata": {},
   "outputs": [],
   "source": [
    "folder_path = '/Users/jonathanquartin/Documents/Coding/GitHub/um_volcano_project/GALAPAGOS_DATA'"
   ]
  },
  {
   "cell_type": "code",
   "execution_count": 3,
   "metadata": {},
   "outputs": [],
   "source": [
    "def date_to_decimal_year(date_str):\n",
    "    date_obj = datetime.strptime(date_str, '%Y-%m-%d')\n",
    "    year = date_obj.year\n",
    "    day_of_year = date_obj.timetuple().tm_yday\n",
    "    decimal_year = year + (day_of_year - 1) / 365.0\n",
    "    decimal_year = round(decimal_year,4) \n",
    "    return decimal_year"
   ]
  },
  {
   "cell_type": "code",
   "execution_count": 4,
   "metadata": {},
   "outputs": [],
   "source": [
    "# Import tables\n",
    "eruptions = pd.read_csv(os.path.join(folder_path, \"eruptions_galapagos3.csv\"))\n",
    "eruptions['Decimal'] = eruptions.Start.apply(date_to_decimal_year)\n",
    "\n",
    "rainfall = pd.read_csv(os.path.join(folder_path, \"cleaned_precip_galap.csv\"))\n",
    "\n"
   ]
  },
  {
   "cell_type": "markdown",
   "metadata": {},
   "source": [
    "First we look at the quintiles of rainfall at each volcano site, and see where eruptions fall."
   ]
  },
  {
   "cell_type": "code",
   "execution_count": 27,
   "metadata": {},
   "outputs": [
    {
     "name": "stderr",
     "output_type": "stream",
     "text": [
      "/var/folders/d0/48hh0ndj2v59mjry93b9grn00000gn/T/ipykernel_92488/159018300.py:14: SettingWithCopyWarning: \n",
      "A value is trying to be set on a copy of a slice from a DataFrame.\n",
      "Try using .loc[row_indexer,col_indexer] = value instead\n",
      "\n",
      "See the caveats in the documentation: https://pandas.pydata.org/pandas-docs/stable/user_guide/indexing.html#returning-a-view-versus-a-copy\n",
      "  rolling_rain['roll90'] = rolling_rain.Precipitation.rolling(90).mean()\n",
      "/var/folders/d0/48hh0ndj2v59mjry93b9grn00000gn/T/ipykernel_92488/159018300.py:14: SettingWithCopyWarning: \n",
      "A value is trying to be set on a copy of a slice from a DataFrame.\n",
      "Try using .loc[row_indexer,col_indexer] = value instead\n",
      "\n",
      "See the caveats in the documentation: https://pandas.pydata.org/pandas-docs/stable/user_guide/indexing.html#returning-a-view-versus-a-copy\n",
      "  rolling_rain['roll90'] = rolling_rain.Precipitation.rolling(90).mean()\n",
      "/var/folders/d0/48hh0ndj2v59mjry93b9grn00000gn/T/ipykernel_92488/159018300.py:14: SettingWithCopyWarning: \n",
      "A value is trying to be set on a copy of a slice from a DataFrame.\n",
      "Try using .loc[row_indexer,col_indexer] = value instead\n",
      "\n",
      "See the caveats in the documentation: https://pandas.pydata.org/pandas-docs/stable/user_guide/indexing.html#returning-a-view-versus-a-copy\n",
      "  rolling_rain['roll90'] = rolling_rain.Precipitation.rolling(90).mean()\n",
      "/var/folders/d0/48hh0ndj2v59mjry93b9grn00000gn/T/ipykernel_92488/159018300.py:14: SettingWithCopyWarning: \n",
      "A value is trying to be set on a copy of a slice from a DataFrame.\n",
      "Try using .loc[row_indexer,col_indexer] = value instead\n",
      "\n",
      "See the caveats in the documentation: https://pandas.pydata.org/pandas-docs/stable/user_guide/indexing.html#returning-a-view-versus-a-copy\n",
      "  rolling_rain['roll90'] = rolling_rain.Precipitation.rolling(90).mean()\n",
      "/var/folders/d0/48hh0ndj2v59mjry93b9grn00000gn/T/ipykernel_92488/159018300.py:14: SettingWithCopyWarning: \n",
      "A value is trying to be set on a copy of a slice from a DataFrame.\n",
      "Try using .loc[row_indexer,col_indexer] = value instead\n",
      "\n",
      "See the caveats in the documentation: https://pandas.pydata.org/pandas-docs/stable/user_guide/indexing.html#returning-a-view-versus-a-copy\n",
      "  rolling_rain['roll90'] = rolling_rain.Precipitation.rolling(90).mean()\n"
     ]
    },
    {
     "data": {
      "text/plain": [
       "([<matplotlib.axis.YTick at 0x7fe6f2a4fe50>,\n",
       "  <matplotlib.axis.YTick at 0x7fe6f2a3ff10>,\n",
       "  <matplotlib.axis.YTick at 0x7fe6f2a4f640>,\n",
       "  <matplotlib.axis.YTick at 0x7fe6eebb87c0>,\n",
       "  <matplotlib.axis.YTick at 0x7fe6eebbe7f0>,\n",
       "  <matplotlib.axis.YTick at 0x7fe6eebc40a0>,\n",
       "  <matplotlib.axis.YTick at 0x7fe6eebc46d0>,\n",
       "  <matplotlib.axis.YTick at 0x7fe6eebc4e20>,\n",
       "  <matplotlib.axis.YTick at 0x7fe6eebce5b0>,\n",
       "  <matplotlib.axis.YTick at 0x7fe6eebc4be0>,\n",
       "  <matplotlib.axis.YTick at 0x7fe6eebbebb0>],\n",
       " [Text(0, 0, ''),\n",
       "  Text(0, 0, ''),\n",
       "  Text(0, 0, ''),\n",
       "  Text(0, 0, ''),\n",
       "  Text(0, 0, ''),\n",
       "  Text(0, 0, ''),\n",
       "  Text(0, 0, ''),\n",
       "  Text(0, 0, ''),\n",
       "  Text(0, 0, ''),\n",
       "  Text(0, 0, ''),\n",
       "  Text(0, 0, '')])"
      ]
     },
     "execution_count": 27,
     "metadata": {},
     "output_type": "execute_result"
    },
    {
     "data": {
      "image/png": "[encoded data removed]",
      "text/plain": [
       "<Figure size 648x432 with 1 Axes>"
      ]
     },
     "metadata": {
      "needs_background": "light"
     },
     "output_type": "display_data"
    }
   ],
   "source": [
    "# Combine all\n",
    "volcanos = {'Fernandina': (-91.55, -.35), 'Azul, Cerro': (-91.35, -.95), 'Negra, Sierra': (-91.15, -.85), 'Wolf': (-91.35, .05), 'Alcedo': (-91.15, -.45)}\n",
    "picks = volcanos #name volcano(s)\n",
    "\n",
    "plt.figure(figsize=(9,6))\n",
    "\n",
    "categories = ['0-20', '20-40', '40-60', '60-80', '80-100']\n",
    "values = [0,0,0,0,0]\n",
    "\n",
    "# Across all years\n",
    "for i in picks:\n",
    "    erupt_dates = np.array(eruptions['Start'][(eruptions['Volcano'] == i) & (eruptions['Start'] >= '2000')])\n",
    "    rolling_rain = rainfall[(rainfall['Longitude'] == volcanos[i][0]) & (rainfall['Latitude'] == volcanos[i][1])]\n",
    "    rolling_rain['roll90'] = rolling_rain.Precipitation.rolling(90).mean()\n",
    "    rolling_rain = rolling_rain.dropna()    \n",
    "    all_rain = list(rolling_rain.sort_values(by=['roll90'])['Date'])\n",
    "    fifth = len(all_rain) // 5\n",
    "    for l in erupt_dates:\n",
    "        values[all_rain.index(l) // fifth] += 1                 \n",
    "        \n",
    "plt.bar(categories, values, color='skyblue')\n",
    "plt.xlabel(\"Quintile\")\n",
    "plt.ylabel(\"Number of eruptions\")\n",
    "plt.title(\"Eruptions by rain amount\")\n",
    "plt.xticks(rotation=45) \n",
    "plt.yticks([0,1,2,3,4,5,6,7,8,9,10])\n",
    "#Plot the top two quintiles"
   ]
  },
  {
   "cell_type": "markdown",
   "metadata": {},
   "source": [
    "It seems like there is somewhat of a correlation. Let's look further into each volcano site. There is some regularity to a notion of rainy season, at the volcano sites, so if there is an extended period of years where rainfall is low, a volcano that erupts in a rainy period relative to the dry spell may not appear high in the histogram."
   ]
  },
  {
   "cell_type": "code",
   "execution_count": 6,
   "metadata": {},
   "outputs": [
    {
     "name": "stdout",
     "output_type": "stream",
     "text": [
      "2005-05-13 4\n",
      "2009-04-10 4\n",
      "2017-09-04 1\n",
      "2018-06-16 3\n",
      "2020-01-12 0\n"
     ]
    },
    {
     "name": "stderr",
     "output_type": "stream",
     "text": [
      "/var/folders/d0/48hh0ndj2v59mjry93b9grn00000gn/T/ipykernel_99824/1491542201.py:18: SettingWithCopyWarning: \n",
      "A value is trying to be set on a copy of a slice from a DataFrame.\n",
      "Try using .loc[row_indexer,col_indexer] = value instead\n",
      "\n",
      "See the caveats in the documentation: https://pandas.pydata.org/pandas-docs/stable/user_guide/indexing.html#returning-a-view-versus-a-copy\n",
      "  rolling_rain['roll90'] = rolling_rain.Precipitation.rolling(90).mean()\n"
     ]
    },
    {
     "data": {
      "text/plain": [
       "([<matplotlib.axis.YTick at 0x7ff31691b610>,\n",
       "  <matplotlib.axis.YTick at 0x7ff316a41430>,\n",
       "  <matplotlib.axis.YTick at 0x7ff316bb49d0>,\n",
       "  <matplotlib.axis.YTick at 0x7ff31757ec70>,\n",
       "  <matplotlib.axis.YTick at 0x7ff31757e7f0>,\n",
       "  <matplotlib.axis.YTick at 0x7ff31756e6d0>,\n",
       "  <matplotlib.axis.YTick at 0x7ff317586760>,\n",
       "  <matplotlib.axis.YTick at 0x7ff31758f040>,\n",
       "  <matplotlib.axis.YTick at 0x7ff31758f640>,\n",
       "  <matplotlib.axis.YTick at 0x7ff31758fd90>,\n",
       "  <matplotlib.axis.YTick at 0x7ff317593520>],\n",
       " [Text(0, 0, ''),\n",
       "  Text(0, 0, ''),\n",
       "  Text(0, 0, ''),\n",
       "  Text(0, 0, ''),\n",
       "  Text(0, 0, ''),\n",
       "  Text(0, 0, ''),\n",
       "  Text(0, 0, ''),\n",
       "  Text(0, 0, ''),\n",
       "  Text(0, 0, ''),\n",
       "  Text(0, 0, ''),\n",
       "  Text(0, 0, '')])"
      ]
     },
     "execution_count": 6,
     "metadata": {},
     "output_type": "execute_result"
    },
    {
     "data": {
      "image/png": "[encoded data removed]",
      "text/plain": [
       "<Figure size 648x432 with 1 Axes>"
      ]
     },
     "metadata": {
      "needs_background": "light"
     },
     "output_type": "display_data"
    }
   ],
   "source": [
    "#Does the histogram by year\n",
    "\n",
    "volcanos = {'Fernandina': (-91.55, -.35), 'Azul, Cerro': (-91.35, -.95), 'Negra, Sierra': (-91.15, -.85), 'Wolf': (-91.35, .05), 'Alcedo': (-91.15, -.45)}\n",
    "picks = ['Fernandina'] #name a volcano\n",
    "rain_start = '11-01'\n",
    "rain_end = '10-31'\n",
    "\n",
    "plt.figure(figsize=(9,6))\n",
    "\n",
    "categories = ['0-20', '20-40', '40-60', '60-80', '80-100']\n",
    "values = [0,0,0,0,0]\n",
    "top_twenty = []\n",
    "\n",
    "# By year\n",
    "for pick in picks:\n",
    "    erupt_dates = np.array(eruptions['Start'][(eruptions['Volcano'] == pick) & (eruptions['Start'] >= '2000')])\n",
    "    rolling_rain = rainfall[(rainfall['Longitude'] == volcanos[pick][0]) & (rainfall['Latitude'] == volcanos[pick][1])]\n",
    "    rolling_rain['roll90'] = rolling_rain.Precipitation.rolling(90).mean()\n",
    "    rolling_rain = rolling_rain.dropna()\n",
    "    for k in range(24):\n",
    "            year = 2000 + k\n",
    "            yearly_rain = rolling_rain[(rolling_rain['Date'] >= str(year) + '-' + rain_start) & (rolling_rain['Date'] <= str(year + 1) + '-' + rain_end)].sort_values(by=['roll90'])\n",
    "            all_rain = list(yearly_rain['Date'])\n",
    "            for l in erupt_dates:\n",
    "                if l in all_rain:\n",
    "                    print(l, all_rain.index(l) // 73)\n",
    "                    # if all_rain.index(l) // 73 == 4:\n",
    "                    #       top_twenty.append(l)\n",
    "                    values[all_rain.index(l) // 73] += 1\n",
    "\n",
    "# Across all years\n",
    "# all_rain = list(rolling_rain.sort_values(by=['roll90'])['Date'])\n",
    "# fifth = len(all_rain) // 5\n",
    "# for l in erupt_dates:\n",
    "#     values[all_rain.index(l) // fifth] += 1                 \n",
    "        \n",
    "plt.bar(categories, values, color='skyblue')\n",
    "plt.xlabel(\"Quintile\")\n",
    "plt.ylabel(\"Number of eruptions\")\n",
    "plt.title(\"Eruptions by rain amount\")\n",
    "plt.xticks(rotation=45) \n",
    "plt.yticks([0,1,2,3,4,5,6,7,8,9,10])\n",
    "\n"
   ]
  },
  {
   "cell_type": "markdown",
   "metadata": {},
   "source": [
    "Two of the eruptions for Fernandina from the 60-80 percentile jumped to the 80-100 percentile when considering seasonal effects. For Sierra Negra, a eruption in the 0-20 percentile jumps up one, as does the one in the 60-80 percentile. Lets try and get a better picture of why this is so."
   ]
  },
  {
   "cell_type": "code",
   "execution_count": 33,
   "metadata": {},
   "outputs": [
    {
     "name": "stderr",
     "output_type": "stream",
     "text": [
      "/var/folders/d0/48hh0ndj2v59mjry93b9grn00000gn/T/ipykernel_92488/2736981045.py:8: SettingWithCopyWarning: \n",
      "A value is trying to be set on a copy of a slice from a DataFrame.\n",
      "Try using .loc[row_indexer,col_indexer] = value instead\n",
      "\n",
      "See the caveats in the documentation: https://pandas.pydata.org/pandas-docs/stable/user_guide/indexing.html#returning-a-view-versus-a-copy\n",
      "  rolling_galapagos['roll90'] = rolling_galapagos.Precipitation.rolling(90).mean()\n",
      "/var/folders/d0/48hh0ndj2v59mjry93b9grn00000gn/T/ipykernel_92488/2736981045.py:9: SettingWithCopyWarning: \n",
      "A value is trying to be set on a copy of a slice from a DataFrame.\n",
      "Try using .loc[row_indexer,col_indexer] = value instead\n",
      "\n",
      "See the caveats in the documentation: https://pandas.pydata.org/pandas-docs/stable/user_guide/indexing.html#returning-a-view-versus-a-copy\n",
      "  rolling_galapagos['Decimal'] = rolling_galapagos.Date.apply(date_to_decimal_year)\n"
     ]
    },
    {
     "data": {
      "image/png": "[encoded data removed]",
      "text/plain": [
       "<Figure size 648x864 with 1 Axes>"
      ]
     },
     "metadata": {
      "needs_background": "light"
     },
     "output_type": "display_data"
    }
   ],
   "source": [
    "# Generates the rainy season plot\n",
    "volcanos = {'Fernandina': (-91.55, -.35), 'Azul, Cerro': (-91.35, -.95), 'Negra, Sierra': (-91.15, -.85), 'Wolf': (-91.35, .05), 'Alcedo': (-91.15, -.45)}\n",
    "pick = 'Negra, Sierra'\n",
    "\n",
    "rolling_galapagos = rainfall[(rainfall['Longitude'] == volcanos[pick][0]) & (rainfall['Latitude'] == volcanos[pick][1])]\n",
    "rain_start = '11-01'\n",
    "rain_end = '10-31'\n",
    "rolling_galapagos['roll90'] = rolling_galapagos.Precipitation.rolling(90).mean()\n",
    "rolling_galapagos['Decimal'] = rolling_galapagos.Date.apply(date_to_decimal_year)\n",
    "eruptions['Decimal'] = eruptions.Start.apply(date_to_decimal_year)\n",
    "rolling_galapagos = rolling_galapagos.dropna()\n",
    "\n",
    "plt.figure(figsize=(9,12))\n",
    "\n",
    "erupt_dates = np.array(eruptions['Decimal'][(eruptions['Start'] >= '2004-11-01') & (eruptions['Volcano'] == pick)])\n",
    "volc_x = [((i + (2/12)) % 1) for i in erupt_dates]\n",
    "volc_y = [(i + (2/12)) // 1 for i in erupt_dates]\n",
    "labels = list(eruptions['Volcano'][(eruptions['Start'] >= '2004-11-01') & (eruptions['Volcano'] == pick)])\n",
    "plt.scatter(volc_x, volc_y, color='maroon')\n",
    "for i in range(len(volc_x)):\n",
    "    plt.annotate(volcanos[labels[i]], (volc_x[i], volc_y[i]), textcoords=\"offset points\", xytext=(0,10), ha='center')\n",
    "\n",
    "dormant_days = pd.DataFrame()\n",
    "# for i in erupt_dates:\n",
    "#     dormant_days = dormant_days.append(rolling_galapagos[(rolling_galapagos['Decimal'] > i) & (rolling_galapagos['Decimal'] < i + .75)])\n",
    "# removals = list(dormant_days['Decimal'])\n",
    "# rolling_galapagos = rolling_galapagos[~rolling_galapagos['Decimal'].isin(removals)]\n",
    "dates = rolling_galapagos.sort_values(by=['roll90'])['Decimal']\n",
    "x = np.array((dates + (2/12)) % 1)\n",
    "y = np.array((dates + (2/12)) // 1)\n",
    "bin_size = len(x) // 5\n",
    "plt.scatter(x[-bin_size:], y[-bin_size:], color='orange', s =1)\n",
    "plt.scatter(x[-(2*bin_size):-bin_size], y[-(2*bin_size):-bin_size], color='black', s =1)\n",
    "plt.scatter(x[-(3*bin_size):-(2*bin_size)], y[-(3*bin_size):-(2*bin_size)], color='red', s =1)\n",
    "# plt.scatter(x[-6688:-5016], y[-6688:-5016], color='green', s =1)\n",
    "# for i in erupt_dates:\n",
    "#     print(i, list(dates).index(i) // 1672)\n",
    "\n",
    "\n",
    "plt.yticks([2000+k for k in range(24)], [str(1999+k) + '-' + str(2000+k)[2:4] for k in range(24)])\n",
    "plt.xticks([(1/12)*k for k in range(12)], ['11', '12', '01', '02', '03', '04', '05', '06', '07', '08', '09', '10'])\n",
    "plt.xlabel(\"Month\") \n",
    "plt.ylabel(\"Year\") \n",
    "plt.title('Rainy Seasons') \n",
    "plt.show() "
   ]
  },
  {
   "cell_type": "markdown",
   "metadata": {},
   "source": [
    "For 2005 and 2009 Fernandina, they occur during fairly dry years. And within that, they occur at the rainiest time. So these fall into our framework more so, and we will take them as further evidence that these are actually occuring due to rainfall. For Sierra Negra, The two that occur in 2005, occur in the midst of a three year period that is pretty dry. So the first one in 2005 still falls quite strongly into our framework. So that justifies the hump in the 60-80 period. The lowest Sierra Negra one changes slightly but that one is not of huge consequence."
   ]
  },
  {
   "cell_type": "code",
   "execution_count": null,
   "metadata": {},
   "outputs": [],
   "source": [
    "#Just to see after modifying\n",
    "\n",
    "categories = ['0-20', '20-40', '40-60', '60-80', '80-100']\n",
    "values = [0,2,2,2,6]\n",
    "\n",
    "plt.bar(categories, values, color='skyblue')\n",
    "plt.xlabel(\"Quintile\")\n",
    "plt.ylabel(\"Number of eruptions\")\n",
    "plt.title(\"Eruptions by rain amount\")\n",
    "plt.xticks(rotation=45) \n",
    "plt.yticks([0,1,2,3,4,5,6,7,8,9,10])"
   ]
  },
  {
   "cell_type": "code",
   "execution_count": 10,
   "metadata": {},
   "outputs": [
    {
     "name": "stdout",
     "output_type": "stream",
     "text": [
      "          Volcano       Start         End  Max Explosivity During El Nino  \\\n",
      "0      Fernandina  1961-03-21  1961-09-16                2              n   \n",
      "1            Wolf  1963-03-04  1963-03-16                0              n   \n",
      "2   Negra, Sierra  1963-04-13  1963-05-16                2              n   \n",
      "3     Azul, Cerro  1967-08-09        None                2              n   \n",
      "4      Fernandina  1968-05-21  1968-05-23                2              n   \n",
      "6      Fernandina  1972-06-04        None                0              y   \n",
      "7      Fernandina  1973-12-09  1973-12-16                2              n   \n",
      "8      Fernandina  1977-03-23  1977-03-27                1              y   \n",
      "9      Fernandina  1978-08-08  1978-08-26                2              n   \n",
      "10    Azul, Cerro  1979-01-29  1979-03-04                2              n   \n",
      "11  Negra, Sierra  1979-11-13  1980-01-14                3              n   \n",
      "12     Fernandina  1981-08-01        None                0              n   \n",
      "13           Wolf  1982-08-28  1982-09-06                1              y   \n",
      "14     Fernandina  1984-03-30        None                1              n   \n",
      "15     Fernandina  1988-09-14  1988-09-16                2              n   \n",
      "16     Fernandina  1991-04-19  1991-04-24                2              n   \n",
      "17       Marchena  1991-09-25  1991-11-16                2              y   \n",
      "18         Alcedo  1993-12-05        None                1              n   \n",
      "19     Fernandina  1995-01-25  1995-04-08                2              y   \n",
      "20  Negra, Sierra  1998-01-11        None                0              n   \n",
      "21    Azul, Cerro  1998-09-15  1998-10-21                1              n   \n",
      "22  Negra, Sierra  2005-04-16        None                0              n   \n",
      "23     Fernandina  2005-05-13  2005-05-29                2              n   \n",
      "24  Negra, Sierra  2005-10-22  2005-10-30                3              n   \n",
      "25    Azul, Cerro  2008-05-29  2008-06-17                1              n   \n",
      "26     Fernandina  2009-04-10  2009-04-28                2              n   \n",
      "27           Wolf  2015-05-25  2015-07-16                4              y   \n",
      "28     Fernandina  2017-09-04  2017-09-07                2              n   \n",
      "29    Azul, Cerro  2017-03-10        None                0              n   \n",
      "30     Fernandina  2018-06-16  2018-06-21                1              n   \n",
      "31  Negra, Sierra  2018-06-26  2018-08-23                2              n   \n",
      "32     Fernandina  2020-01-12  2020-01-13                0              n   \n",
      "33           Wolf  2022-01-06  2022-04-14                2              n   \n",
      "\n",
      "      Decimal  \n",
      "0   1961.2164  \n",
      "1   1963.1699  \n",
      "2   1963.2795  \n",
      "3   1967.6027  \n",
      "4   1968.3863  \n",
      "6   1972.4247  \n",
      "7   1973.9370  \n",
      "8   1977.2219  \n",
      "9   1978.6000  \n",
      "10  1979.0767  \n",
      "11  1979.8658  \n",
      "12  1981.5808  \n",
      "13  1982.6548  \n",
      "14  1984.2438  \n",
      "15  1988.7041  \n",
      "16  1991.2959  \n",
      "17  1991.7315  \n",
      "18  1993.9260  \n",
      "19  1995.0658  \n",
      "20  1998.0274  \n",
      "21  1998.7041  \n",
      "22  2005.2877  \n",
      "23  2005.3616  \n",
      "24  2005.8055  \n",
      "25  2008.4082  \n",
      "26  2009.2712  \n",
      "27  2015.3945  \n",
      "28  2017.6740  \n",
      "29  2017.1863  \n",
      "30  2018.4548  \n",
      "31  2018.4822  \n",
      "32  2020.0301  \n",
      "33  2022.0137  \n"
     ]
    }
   ],
   "source": [
    "eruptions = eruptions.drop(5)\n",
    "print(eruptions)"
   ]
  },
  {
   "cell_type": "code",
   "execution_count": 12,
   "metadata": {},
   "outputs": [
    {
     "name": "stdout",
     "output_type": "stream",
     "text": [
      "{'Fernandina': 3.9209133333333286, 'Azul, Cerro': 12.39590000000004, 'Negra, Sierra': 11.040539999999964, 'Wolf': 19.614599999999957, 'Alcedo': nan}\n"
     ]
    },
    {
     "name": "stderr",
     "output_type": "stream",
     "text": [
      "/var/folders/d0/48hh0ndj2v59mjry93b9grn00000gn/T/ipykernel_99824/3654928969.py:6: RuntimeWarning: invalid value encountered in double_scalars\n",
      "  recurrences[i] = (dates[-1] - dates[0]) / (len(dates) - 1)\n"
     ]
    }
   ],
   "source": [
    "#make recurrences\n",
    "recurrences = {'Fernandina': 0, 'Azul, Cerro': 0, 'Negra, Sierra': 0, 'Wolf': 0, 'Alcedo': 0}\n",
    "\n",
    "for i in volcanos:\n",
    "    dates = np.array(eruptions['Decimal'][eruptions['Volcano'] == i])\n",
    "    recurrences[i] = (dates[-1] - dates[0]) / (len(dates) - 1)\n",
    "\n",
    "print(recurrences)\n"
   ]
  },
  {
   "cell_type": "code",
   "execution_count": 30,
   "metadata": {},
   "outputs": [],
   "source": [
    "# # Combine all\n",
    "\n",
    "# #volcanos = {'Fernandina': (-91.55, -.35, .5), 'Azul, Cerro': (-91.35, -.95, 2), 'Negra, Sierra': (-91.15, -.85, 2), 'Wolf': (-91.35, .05, 2), 'Alcedo': (-91.15, -.45, 2)}\n",
    "# volcanos = {'Fernandina': (-91.55, -.35, .5), 'Azul, Cerro': (-91.35, -.95, 2), 'Negra, Sierra': (-91.15, -.85, .5), 'Wolf': (-91.35, .05, 2)}\n",
    "# picks = volcanos #['Negra, Sierra'] #name a volcano\n",
    "# rain_start = '11-01'\n",
    "# rain_end = '10-31'\n",
    "# plt.figure(figsize=(9,6))\n",
    "\n",
    "# categories = ['0-20', '20-40', '40-60', '60-80', '80-100']\n",
    "# values = [0,0,0,0,0]\n",
    "\n",
    "# # Across all years\n",
    "# for i in picks:\n",
    "#     erupt_dates = np.array(eruptions['Decimal'][(eruptions['Volcano'] == i) & (eruptions['Start'] >= '2000')])\n",
    "#     rolling_rain = rainfall[(rainfall['Longitude'] == volcanos[i][0]) & (rainfall['Latitude'] == volcanos[i][1])]\n",
    "#     rolling_rain['Decimal'] = rolling_rain.Date.apply(date_to_decimal_year)\n",
    "#     rolling_rain['roll90'] = rolling_rain.Precipitation.rolling(90).mean()\n",
    "#     rolling_rain = rolling_rain.dropna() \n",
    "#     dormant_days = pd.DataFrame()\n",
    "#     for j in erupt_dates:\n",
    "#         dormant_days = dormant_days.append(rolling_rain[(rolling_rain['Decimal'] > j) & (rolling_rain['Decimal'] < j + volcanos[i][2])])\n",
    "#     removals = list(dormant_days['Decimal'])\n",
    "#     rolling_rain = rolling_rain[~rolling_rain['Decimal'].isin(removals)]\n",
    "#     dates = list(rolling_rain.sort_values(by=['roll90'])['Decimal'])\n",
    "#     fifth = len(dates) // 5\n",
    "#     for l in erupt_dates:\n",
    "#         values[dates.index(l) // fifth] += 1                 \n",
    "        \n",
    "# plt.bar(categories, values, color='skyblue')\n",
    "# plt.xlabel(\"Quintile\")\n",
    "# plt.ylabel(\"Number of eruptions\")\n",
    "# plt.title(\"Eruptions by rain amount\")\n",
    "# plt.xticks(rotation=45) \n",
    "# plt.yticks([0,1,2,3,4,5,6,7,8,9,10])\n"
   ]
  }
 ],
 "metadata": {
  "kernelspec": {
   "display_name": "base",
   "language": "python",
   "name": "python3"
  },
  "language_info": {
   "codemirror_mode": {
    "name": "ipython",
    "version": 3
   },
   "file_extension": ".py",
   "mimetype": "text/x-python",
   "name": "python",
   "nbconvert_exporter": "python",
   "pygments_lexer": "ipython3",
   "version": "3.9.12"
  }
 },
 "nbformat": 4,
 "nbformat_minor": 2
}
