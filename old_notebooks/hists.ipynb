{
 "cells": [
  {
   "cell_type": "code",
   "execution_count": 1,
   "metadata": {},
   "outputs": [],
   "source": [
    "import pandas as pd \n",
    "import sklearn\n",
    "import numpy as np\n",
    "import matplotlib.pyplot as plt\n",
    "import csv\n",
    "from datetime import datetime\n",
    "import random\n",
    "import seaborn as sns\n",
    "import os"
   ]
  },
  {
   "cell_type": "code",
   "execution_count": 2,
   "metadata": {},
   "outputs": [],
   "source": [
    "folder_path = '/Users/jonathanquartin/Documents/Coding/GitHub/um_volcano_project/GALAPAGOS_DATA'"
   ]
  },
  {
   "cell_type": "code",
   "execution_count": 3,
   "metadata": {},
   "outputs": [],
   "source": [
    "eruptions = pd.read_csv(os.path.join(folder_path, \"eruptions_reunion.csv\"))\n",
    "average_rain = pd.read_csv(os.path.join(folder_path, \"average_reunion.csv\"))"
   ]
  },
  {
   "cell_type": "code",
   "execution_count": 4,
   "metadata": {},
   "outputs": [],
   "source": [
    "def date_to_decimal_year(date_str):\n",
    "    date_obj = datetime.strptime(date_str, '%Y-%m-%d')\n",
    "    year = date_obj.year\n",
    "    day_of_year = date_obj.timetuple().tm_yday\n",
    "    decimal_year = year + (day_of_year - 1) / 365.0\n",
    "    decimal_year = round(decimal_year,4) \n",
    "    return decimal_year"
   ]
  },
  {
   "cell_type": "code",
   "execution_count": 5,
   "metadata": {},
   "outputs": [
    {
     "name": "stdout",
     "output_type": "stream",
     "text": [
      "            Date  Precipitation\n",
      "0     2000-06-01       0.000000\n",
      "1     2000-06-02       0.000000\n",
      "2     2000-06-03       0.000000\n",
      "3     2000-06-04       1.054254\n",
      "4     2000-06-05       6.222801\n",
      "...          ...            ...\n",
      "8357  2023-04-26      18.338750\n",
      "8358  2023-04-27       2.246250\n",
      "8359  2023-04-28       5.416250\n",
      "8360  2023-04-29       1.327500\n",
      "8361  2023-04-30       0.000000\n",
      "\n",
      "[8362 rows x 2 columns]\n"
     ]
    }
   ],
   "source": [
    "print(average_rain)"
   ]
  },
  {
   "cell_type": "code",
   "execution_count": 16,
   "metadata": {},
   "outputs": [
    {
     "name": "stderr",
     "output_type": "stream",
     "text": [
      "/var/folders/d0/48hh0ndj2v59mjry93b9grn00000gn/T/ipykernel_84645/786229658.py:19: FutureWarning: The frame.append method is deprecated and will be removed from pandas in a future version. Use pandas.concat instead.\n",
      "  new_frame = new_frame.append(rolling_rain[(rolling_rain['Decimal'] > i) & (rolling_rain['Decimal'] <= i+.3)])\n",
      "/var/folders/d0/48hh0ndj2v59mjry93b9grn00000gn/T/ipykernel_84645/786229658.py:19: FutureWarning: The frame.append method is deprecated and will be removed from pandas in a future version. Use pandas.concat instead.\n",
      "  new_frame = new_frame.append(rolling_rain[(rolling_rain['Decimal'] > i) & (rolling_rain['Decimal'] <= i+.3)])\n",
      "/var/folders/d0/48hh0ndj2v59mjry93b9grn00000gn/T/ipykernel_84645/786229658.py:19: FutureWarning: The frame.append method is deprecated and will be removed from pandas in a future version. Use pandas.concat instead.\n",
      "  new_frame = new_frame.append(rolling_rain[(rolling_rain['Decimal'] > i) & (rolling_rain['Decimal'] <= i+.3)])\n",
      "/var/folders/d0/48hh0ndj2v59mjry93b9grn00000gn/T/ipykernel_84645/786229658.py:19: FutureWarning: The frame.append method is deprecated and will be removed from pandas in a future version. Use pandas.concat instead.\n",
      "  new_frame = new_frame.append(rolling_rain[(rolling_rain['Decimal'] > i) & (rolling_rain['Decimal'] <= i+.3)])\n",
      "/var/folders/d0/48hh0ndj2v59mjry93b9grn00000gn/T/ipykernel_84645/786229658.py:19: FutureWarning: The frame.append method is deprecated and will be removed from pandas in a future version. Use pandas.concat instead.\n",
      "  new_frame = new_frame.append(rolling_rain[(rolling_rain['Decimal'] > i) & (rolling_rain['Decimal'] <= i+.3)])\n",
      "/var/folders/d0/48hh0ndj2v59mjry93b9grn00000gn/T/ipykernel_84645/786229658.py:19: FutureWarning: The frame.append method is deprecated and will be removed from pandas in a future version. Use pandas.concat instead.\n",
      "  new_frame = new_frame.append(rolling_rain[(rolling_rain['Decimal'] > i) & (rolling_rain['Decimal'] <= i+.3)])\n",
      "/var/folders/d0/48hh0ndj2v59mjry93b9grn00000gn/T/ipykernel_84645/786229658.py:19: FutureWarning: The frame.append method is deprecated and will be removed from pandas in a future version. Use pandas.concat instead.\n",
      "  new_frame = new_frame.append(rolling_rain[(rolling_rain['Decimal'] > i) & (rolling_rain['Decimal'] <= i+.3)])\n",
      "/var/folders/d0/48hh0ndj2v59mjry93b9grn00000gn/T/ipykernel_84645/786229658.py:19: FutureWarning: The frame.append method is deprecated and will be removed from pandas in a future version. Use pandas.concat instead.\n",
      "  new_frame = new_frame.append(rolling_rain[(rolling_rain['Decimal'] > i) & (rolling_rain['Decimal'] <= i+.3)])\n",
      "/var/folders/d0/48hh0ndj2v59mjry93b9grn00000gn/T/ipykernel_84645/786229658.py:19: FutureWarning: The frame.append method is deprecated and will be removed from pandas in a future version. Use pandas.concat instead.\n",
      "  new_frame = new_frame.append(rolling_rain[(rolling_rain['Decimal'] > i) & (rolling_rain['Decimal'] <= i+.3)])\n",
      "/var/folders/d0/48hh0ndj2v59mjry93b9grn00000gn/T/ipykernel_84645/786229658.py:19: FutureWarning: The frame.append method is deprecated and will be removed from pandas in a future version. Use pandas.concat instead.\n",
      "  new_frame = new_frame.append(rolling_rain[(rolling_rain['Decimal'] > i) & (rolling_rain['Decimal'] <= i+.3)])\n",
      "/var/folders/d0/48hh0ndj2v59mjry93b9grn00000gn/T/ipykernel_84645/786229658.py:19: FutureWarning: The frame.append method is deprecated and will be removed from pandas in a future version. Use pandas.concat instead.\n",
      "  new_frame = new_frame.append(rolling_rain[(rolling_rain['Decimal'] > i) & (rolling_rain['Decimal'] <= i+.3)])\n",
      "/var/folders/d0/48hh0ndj2v59mjry93b9grn00000gn/T/ipykernel_84645/786229658.py:19: FutureWarning: The frame.append method is deprecated and will be removed from pandas in a future version. Use pandas.concat instead.\n",
      "  new_frame = new_frame.append(rolling_rain[(rolling_rain['Decimal'] > i) & (rolling_rain['Decimal'] <= i+.3)])\n",
      "/var/folders/d0/48hh0ndj2v59mjry93b9grn00000gn/T/ipykernel_84645/786229658.py:19: FutureWarning: The frame.append method is deprecated and will be removed from pandas in a future version. Use pandas.concat instead.\n",
      "  new_frame = new_frame.append(rolling_rain[(rolling_rain['Decimal'] > i) & (rolling_rain['Decimal'] <= i+.3)])\n",
      "/var/folders/d0/48hh0ndj2v59mjry93b9grn00000gn/T/ipykernel_84645/786229658.py:19: FutureWarning: The frame.append method is deprecated and will be removed from pandas in a future version. Use pandas.concat instead.\n",
      "  new_frame = new_frame.append(rolling_rain[(rolling_rain['Decimal'] > i) & (rolling_rain['Decimal'] <= i+.3)])\n",
      "/var/folders/d0/48hh0ndj2v59mjry93b9grn00000gn/T/ipykernel_84645/786229658.py:19: FutureWarning: The frame.append method is deprecated and will be removed from pandas in a future version. Use pandas.concat instead.\n",
      "  new_frame = new_frame.append(rolling_rain[(rolling_rain['Decimal'] > i) & (rolling_rain['Decimal'] <= i+.3)])\n",
      "/var/folders/d0/48hh0ndj2v59mjry93b9grn00000gn/T/ipykernel_84645/786229658.py:19: FutureWarning: The frame.append method is deprecated and will be removed from pandas in a future version. Use pandas.concat instead.\n",
      "  new_frame = new_frame.append(rolling_rain[(rolling_rain['Decimal'] > i) & (rolling_rain['Decimal'] <= i+.3)])\n",
      "/var/folders/d0/48hh0ndj2v59mjry93b9grn00000gn/T/ipykernel_84645/786229658.py:19: FutureWarning: The frame.append method is deprecated and will be removed from pandas in a future version. Use pandas.concat instead.\n",
      "  new_frame = new_frame.append(rolling_rain[(rolling_rain['Decimal'] > i) & (rolling_rain['Decimal'] <= i+.3)])\n",
      "/var/folders/d0/48hh0ndj2v59mjry93b9grn00000gn/T/ipykernel_84645/786229658.py:19: FutureWarning: The frame.append method is deprecated and will be removed from pandas in a future version. Use pandas.concat instead.\n",
      "  new_frame = new_frame.append(rolling_rain[(rolling_rain['Decimal'] > i) & (rolling_rain['Decimal'] <= i+.3)])\n",
      "/var/folders/d0/48hh0ndj2v59mjry93b9grn00000gn/T/ipykernel_84645/786229658.py:19: FutureWarning: The frame.append method is deprecated and will be removed from pandas in a future version. Use pandas.concat instead.\n",
      "  new_frame = new_frame.append(rolling_rain[(rolling_rain['Decimal'] > i) & (rolling_rain['Decimal'] <= i+.3)])\n",
      "/var/folders/d0/48hh0ndj2v59mjry93b9grn00000gn/T/ipykernel_84645/786229658.py:19: FutureWarning: The frame.append method is deprecated and will be removed from pandas in a future version. Use pandas.concat instead.\n",
      "  new_frame = new_frame.append(rolling_rain[(rolling_rain['Decimal'] > i) & (rolling_rain['Decimal'] <= i+.3)])\n",
      "/var/folders/d0/48hh0ndj2v59mjry93b9grn00000gn/T/ipykernel_84645/786229658.py:19: FutureWarning: The frame.append method is deprecated and will be removed from pandas in a future version. Use pandas.concat instead.\n",
      "  new_frame = new_frame.append(rolling_rain[(rolling_rain['Decimal'] > i) & (rolling_rain['Decimal'] <= i+.3)])\n",
      "/var/folders/d0/48hh0ndj2v59mjry93b9grn00000gn/T/ipykernel_84645/786229658.py:19: FutureWarning: The frame.append method is deprecated and will be removed from pandas in a future version. Use pandas.concat instead.\n",
      "  new_frame = new_frame.append(rolling_rain[(rolling_rain['Decimal'] > i) & (rolling_rain['Decimal'] <= i+.3)])\n",
      "/var/folders/d0/48hh0ndj2v59mjry93b9grn00000gn/T/ipykernel_84645/786229658.py:19: FutureWarning: The frame.append method is deprecated and will be removed from pandas in a future version. Use pandas.concat instead.\n",
      "  new_frame = new_frame.append(rolling_rain[(rolling_rain['Decimal'] > i) & (rolling_rain['Decimal'] <= i+.3)])\n",
      "/var/folders/d0/48hh0ndj2v59mjry93b9grn00000gn/T/ipykernel_84645/786229658.py:19: FutureWarning: The frame.append method is deprecated and will be removed from pandas in a future version. Use pandas.concat instead.\n",
      "  new_frame = new_frame.append(rolling_rain[(rolling_rain['Decimal'] > i) & (rolling_rain['Decimal'] <= i+.3)])\n",
      "/var/folders/d0/48hh0ndj2v59mjry93b9grn00000gn/T/ipykernel_84645/786229658.py:19: FutureWarning: The frame.append method is deprecated and will be removed from pandas in a future version. Use pandas.concat instead.\n",
      "  new_frame = new_frame.append(rolling_rain[(rolling_rain['Decimal'] > i) & (rolling_rain['Decimal'] <= i+.3)])\n",
      "/var/folders/d0/48hh0ndj2v59mjry93b9grn00000gn/T/ipykernel_84645/786229658.py:19: FutureWarning: The frame.append method is deprecated and will be removed from pandas in a future version. Use pandas.concat instead.\n",
      "  new_frame = new_frame.append(rolling_rain[(rolling_rain['Decimal'] > i) & (rolling_rain['Decimal'] <= i+.3)])\n",
      "/var/folders/d0/48hh0ndj2v59mjry93b9grn00000gn/T/ipykernel_84645/786229658.py:19: FutureWarning: The frame.append method is deprecated and will be removed from pandas in a future version. Use pandas.concat instead.\n",
      "  new_frame = new_frame.append(rolling_rain[(rolling_rain['Decimal'] > i) & (rolling_rain['Decimal'] <= i+.3)])\n",
      "/var/folders/d0/48hh0ndj2v59mjry93b9grn00000gn/T/ipykernel_84645/786229658.py:19: FutureWarning: The frame.append method is deprecated and will be removed from pandas in a future version. Use pandas.concat instead.\n",
      "  new_frame = new_frame.append(rolling_rain[(rolling_rain['Decimal'] > i) & (rolling_rain['Decimal'] <= i+.3)])\n",
      "/var/folders/d0/48hh0ndj2v59mjry93b9grn00000gn/T/ipykernel_84645/786229658.py:19: FutureWarning: The frame.append method is deprecated and will be removed from pandas in a future version. Use pandas.concat instead.\n",
      "  new_frame = new_frame.append(rolling_rain[(rolling_rain['Decimal'] > i) & (rolling_rain['Decimal'] <= i+.3)])\n",
      "/var/folders/d0/48hh0ndj2v59mjry93b9grn00000gn/T/ipykernel_84645/786229658.py:19: FutureWarning: The frame.append method is deprecated and will be removed from pandas in a future version. Use pandas.concat instead.\n",
      "  new_frame = new_frame.append(rolling_rain[(rolling_rain['Decimal'] > i) & (rolling_rain['Decimal'] <= i+.3)])\n",
      "/var/folders/d0/48hh0ndj2v59mjry93b9grn00000gn/T/ipykernel_84645/786229658.py:19: FutureWarning: The frame.append method is deprecated and will be removed from pandas in a future version. Use pandas.concat instead.\n",
      "  new_frame = new_frame.append(rolling_rain[(rolling_rain['Decimal'] > i) & (rolling_rain['Decimal'] <= i+.3)])\n",
      "/var/folders/d0/48hh0ndj2v59mjry93b9grn00000gn/T/ipykernel_84645/786229658.py:19: FutureWarning: The frame.append method is deprecated and will be removed from pandas in a future version. Use pandas.concat instead.\n",
      "  new_frame = new_frame.append(rolling_rain[(rolling_rain['Decimal'] > i) & (rolling_rain['Decimal'] <= i+.3)])\n",
      "/var/folders/d0/48hh0ndj2v59mjry93b9grn00000gn/T/ipykernel_84645/786229658.py:19: FutureWarning: The frame.append method is deprecated and will be removed from pandas in a future version. Use pandas.concat instead.\n",
      "  new_frame = new_frame.append(rolling_rain[(rolling_rain['Decimal'] > i) & (rolling_rain['Decimal'] <= i+.3)])\n",
      "/var/folders/d0/48hh0ndj2v59mjry93b9grn00000gn/T/ipykernel_84645/786229658.py:19: FutureWarning: The frame.append method is deprecated and will be removed from pandas in a future version. Use pandas.concat instead.\n",
      "  new_frame = new_frame.append(rolling_rain[(rolling_rain['Decimal'] > i) & (rolling_rain['Decimal'] <= i+.3)])\n",
      "/var/folders/d0/48hh0ndj2v59mjry93b9grn00000gn/T/ipykernel_84645/786229658.py:19: FutureWarning: The frame.append method is deprecated and will be removed from pandas in a future version. Use pandas.concat instead.\n",
      "  new_frame = new_frame.append(rolling_rain[(rolling_rain['Decimal'] > i) & (rolling_rain['Decimal'] <= i+.3)])\n",
      "/var/folders/d0/48hh0ndj2v59mjry93b9grn00000gn/T/ipykernel_84645/786229658.py:19: FutureWarning: The frame.append method is deprecated and will be removed from pandas in a future version. Use pandas.concat instead.\n",
      "  new_frame = new_frame.append(rolling_rain[(rolling_rain['Decimal'] > i) & (rolling_rain['Decimal'] <= i+.3)])\n",
      "/var/folders/d0/48hh0ndj2v59mjry93b9grn00000gn/T/ipykernel_84645/786229658.py:19: FutureWarning: The frame.append method is deprecated and will be removed from pandas in a future version. Use pandas.concat instead.\n",
      "  new_frame = new_frame.append(rolling_rain[(rolling_rain['Decimal'] > i) & (rolling_rain['Decimal'] <= i+.3)])\n",
      "/var/folders/d0/48hh0ndj2v59mjry93b9grn00000gn/T/ipykernel_84645/786229658.py:19: FutureWarning: The frame.append method is deprecated and will be removed from pandas in a future version. Use pandas.concat instead.\n",
      "  new_frame = new_frame.append(rolling_rain[(rolling_rain['Decimal'] > i) & (rolling_rain['Decimal'] <= i+.3)])\n",
      "/var/folders/d0/48hh0ndj2v59mjry93b9grn00000gn/T/ipykernel_84645/786229658.py:19: FutureWarning: The frame.append method is deprecated and will be removed from pandas in a future version. Use pandas.concat instead.\n",
      "  new_frame = new_frame.append(rolling_rain[(rolling_rain['Decimal'] > i) & (rolling_rain['Decimal'] <= i+.3)])\n",
      "/var/folders/d0/48hh0ndj2v59mjry93b9grn00000gn/T/ipykernel_84645/786229658.py:19: FutureWarning: The frame.append method is deprecated and will be removed from pandas in a future version. Use pandas.concat instead.\n",
      "  new_frame = new_frame.append(rolling_rain[(rolling_rain['Decimal'] > i) & (rolling_rain['Decimal'] <= i+.3)])\n",
      "/var/folders/d0/48hh0ndj2v59mjry93b9grn00000gn/T/ipykernel_84645/786229658.py:19: FutureWarning: The frame.append method is deprecated and will be removed from pandas in a future version. Use pandas.concat instead.\n",
      "  new_frame = new_frame.append(rolling_rain[(rolling_rain['Decimal'] > i) & (rolling_rain['Decimal'] <= i+.3)])\n",
      "/var/folders/d0/48hh0ndj2v59mjry93b9grn00000gn/T/ipykernel_84645/786229658.py:19: FutureWarning: The frame.append method is deprecated and will be removed from pandas in a future version. Use pandas.concat instead.\n",
      "  new_frame = new_frame.append(rolling_rain[(rolling_rain['Decimal'] > i) & (rolling_rain['Decimal'] <= i+.3)])\n",
      "/var/folders/d0/48hh0ndj2v59mjry93b9grn00000gn/T/ipykernel_84645/786229658.py:19: FutureWarning: The frame.append method is deprecated and will be removed from pandas in a future version. Use pandas.concat instead.\n",
      "  new_frame = new_frame.append(rolling_rain[(rolling_rain['Decimal'] > i) & (rolling_rain['Decimal'] <= i+.3)])\n",
      "/var/folders/d0/48hh0ndj2v59mjry93b9grn00000gn/T/ipykernel_84645/786229658.py:19: FutureWarning: The frame.append method is deprecated and will be removed from pandas in a future version. Use pandas.concat instead.\n",
      "  new_frame = new_frame.append(rolling_rain[(rolling_rain['Decimal'] > i) & (rolling_rain['Decimal'] <= i+.3)])\n",
      "/var/folders/d0/48hh0ndj2v59mjry93b9grn00000gn/T/ipykernel_84645/786229658.py:19: FutureWarning: The frame.append method is deprecated and will be removed from pandas in a future version. Use pandas.concat instead.\n",
      "  new_frame = new_frame.append(rolling_rain[(rolling_rain['Decimal'] > i) & (rolling_rain['Decimal'] <= i+.3)])\n",
      "/var/folders/d0/48hh0ndj2v59mjry93b9grn00000gn/T/ipykernel_84645/786229658.py:19: FutureWarning: The frame.append method is deprecated and will be removed from pandas in a future version. Use pandas.concat instead.\n",
      "  new_frame = new_frame.append(rolling_rain[(rolling_rain['Decimal'] > i) & (rolling_rain['Decimal'] <= i+.3)])\n",
      "/var/folders/d0/48hh0ndj2v59mjry93b9grn00000gn/T/ipykernel_84645/786229658.py:19: FutureWarning: The frame.append method is deprecated and will be removed from pandas in a future version. Use pandas.concat instead.\n",
      "  new_frame = new_frame.append(rolling_rain[(rolling_rain['Decimal'] > i) & (rolling_rain['Decimal'] <= i+.3)])\n",
      "/var/folders/d0/48hh0ndj2v59mjry93b9grn00000gn/T/ipykernel_84645/786229658.py:19: FutureWarning: The frame.append method is deprecated and will be removed from pandas in a future version. Use pandas.concat instead.\n",
      "  new_frame = new_frame.append(rolling_rain[(rolling_rain['Decimal'] > i) & (rolling_rain['Decimal'] <= i+.3)])\n",
      "/var/folders/d0/48hh0ndj2v59mjry93b9grn00000gn/T/ipykernel_84645/786229658.py:19: FutureWarning: The frame.append method is deprecated and will be removed from pandas in a future version. Use pandas.concat instead.\n",
      "  new_frame = new_frame.append(rolling_rain[(rolling_rain['Decimal'] > i) & (rolling_rain['Decimal'] <= i+.3)])\n",
      "/var/folders/d0/48hh0ndj2v59mjry93b9grn00000gn/T/ipykernel_84645/786229658.py:19: FutureWarning: The frame.append method is deprecated and will be removed from pandas in a future version. Use pandas.concat instead.\n",
      "  new_frame = new_frame.append(rolling_rain[(rolling_rain['Decimal'] > i) & (rolling_rain['Decimal'] <= i+.3)])\n",
      "/var/folders/d0/48hh0ndj2v59mjry93b9grn00000gn/T/ipykernel_84645/786229658.py:19: FutureWarning: The frame.append method is deprecated and will be removed from pandas in a future version. Use pandas.concat instead.\n",
      "  new_frame = new_frame.append(rolling_rain[(rolling_rain['Decimal'] > i) & (rolling_rain['Decimal'] <= i+.3)])\n",
      "/var/folders/d0/48hh0ndj2v59mjry93b9grn00000gn/T/ipykernel_84645/786229658.py:19: FutureWarning: The frame.append method is deprecated and will be removed from pandas in a future version. Use pandas.concat instead.\n",
      "  new_frame = new_frame.append(rolling_rain[(rolling_rain['Decimal'] > i) & (rolling_rain['Decimal'] <= i+.3)])\n"
     ]
    },
    {
     "data": {
      "text/plain": [
       "([<matplotlib.axis.YTick at 0x7fb36c48a730>,\n",
       "  <matplotlib.axis.YTick at 0x7fb36c48df70>,\n",
       "  <matplotlib.axis.YTick at 0x7fb36c371af0>,\n",
       "  <matplotlib.axis.YTick at 0x7fb36c4a33a0>,\n",
       "  <matplotlib.axis.YTick at 0x7fb36c4a3af0>,\n",
       "  <matplotlib.axis.YTick at 0x7fb36c4a8280>,\n",
       "  <matplotlib.axis.YTick at 0x7fb36c4a3a60>,\n",
       "  <matplotlib.axis.YTick at 0x7fb36c49cc40>,\n",
       "  <matplotlib.axis.YTick at 0x7fb36c4a82e0>,\n",
       "  <matplotlib.axis.YTick at 0x7fb36c4b10d0>,\n",
       "  <matplotlib.axis.YTick at 0x7fb36c4b1820>],\n",
       " [Text(0, 0, ''),\n",
       "  Text(0, 0, ''),\n",
       "  Text(0, 0, ''),\n",
       "  Text(0, 0, ''),\n",
       "  Text(0, 0, ''),\n",
       "  Text(0, 0, ''),\n",
       "  Text(0, 0, ''),\n",
       "  Text(0, 0, ''),\n",
       "  Text(0, 0, ''),\n",
       "  Text(0, 0, ''),\n",
       "  Text(0, 0, '')])"
      ]
     },
     "execution_count": 16,
     "metadata": {},
     "output_type": "execute_result"
    },
    {
     "data": {
      "image/png": "[encoded data removed]",
      "text/plain": [
       "<Figure size 648x432 with 1 Axes>"
      ]
     },
     "metadata": {
      "needs_background": "light"
     },
     "output_type": "display_data"
    }
   ],
   "source": [
    "# Make a histogram for Fernandina\n",
    "#volcanos = {'Fernandina': 'Fe', 'Azul, Cerro': 'CA', 'Negra, Sierra': 'SN', 'Wolf': 'Wo', 'Marchena': 'Ma', 'Alcedo': 'Al'}\n",
    "volcanos = {'Fournaise, Piton de la': 'PF'}\n",
    "erupt_dates = eruptions['Start']\n",
    "#erupt_dates = eruptions['Start'][(eruptions['Start'] >= '1968-06-01') & (eruptions['Volcano'] == 'Fernandina')]\n",
    "rolling_rain = average_rain.copy()\n",
    "rain_start = '11-01'\n",
    "rain_end = '10-31'\n",
    "#rolling_rain['Precipitation'] = rolling_rain['Precipitation'].apply(lambda x: max(x-1, 0))\n",
    "#rolling_rain['Precipitation'] = rolling_rain['Precipitation'].apply(lambda x: min(x, 50))\n",
    "rolling_rain['roll90'] = rolling_rain.Precipitation.rolling(90).mean()\n",
    "rolling_rain['roll90'] = rolling_rain['roll90'].shift(30)\n",
    "rolling_rain = rolling_rain.dropna()\n",
    "rolling_rain['Decimal'] = rolling_rain['Date'].apply(date_to_decimal_year)\n",
    "decimal_erupts = np.array(erupt_dates.apply(date_to_decimal_year))\n",
    "erupt_dates = np.array(erupt_dates)\n",
    "new_frame = pd.DataFrame()\n",
    "for i in decimal_erupts:\n",
    "    new_frame = new_frame.append(rolling_rain[(rolling_rain['Decimal'] > i) & (rolling_rain['Decimal'] <= i+.3)])\n",
    "removals = list(new_frame['Date'])\n",
    "rolling_rain = rolling_rain[~rolling_rain['Date'].isin(removals)]\n",
    "rolling_rain = rolling_rain.sort_values(by='roll90')\n",
    "value = int(len(rolling_rain) * .2)\n",
    "\n",
    "\n",
    "\n",
    "plt.figure(figsize=(9,6))\n",
    "\n",
    "categories = ['0-20', '20-40', '40-60', '60-80', '80-100']\n",
    "values = [0,0,0,0,0]\n",
    "top_twenty = []\n",
    "\n",
    "for k in erupt_dates:\n",
    "    for i in range(5):\n",
    "        period = np.array(rolling_rain['Date'][value*i:value*(i+1)])\n",
    "        if k in period:\n",
    "            values[i] += 1\n",
    "            break\n",
    "                  \n",
    "        \n",
    "plt.bar(categories, values, color='skyblue')\n",
    "plt.xlabel(\"Quintile\")\n",
    "plt.ylabel(\"Number of eruptions\")\n",
    "plt.title(\"Eruptions of Piton (3 month recharge, 120 rolling avg)\")\n",
    "plt.xticks(rotation=45) \n",
    "plt.yticks([0,1,2,3,4,5,6,7,8,9,10])"
   ]
  }
 ],
 "metadata": {
  "kernelspec": {
   "display_name": "base",
   "language": "python",
   "name": "python3"
  },
  "language_info": {
   "codemirror_mode": {
    "name": "ipython",
    "version": 3
   },
   "file_extension": ".py",
   "mimetype": "text/x-python",
   "name": "python",
   "nbconvert_exporter": "python",
   "pygments_lexer": "ipython3",
   "version": "3.9.12"
  }
 },
 "nbformat": 4,
 "nbformat_minor": 2
}
