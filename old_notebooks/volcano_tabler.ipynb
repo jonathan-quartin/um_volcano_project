{
 "cells": [
  {
   "cell_type": "code",
   "execution_count": 1,
   "id": "a96b2abf",
   "metadata": {},
   "outputs": [],
   "source": [
    "import pandas as pd\n",
    "import numpy as np\n",
    "from matplotlib import pyplot as plt\n",
    "from matplotlib import dates as dt\n",
    "import os\n",
    "from os import path\n",
    "import h5py\n",
    "import re\n",
    "from datetime import datetime\n",
    "from datetime import date\n",
    "import requests\n",
    "import calendar\n",
    "import netCDF4 as nc\n",
    "import json\n",
    "import csv"
   ]
  },
  {
   "cell_type": "code",
   "execution_count": 2,
   "id": "2b0f11d1",
   "metadata": {},
   "outputs": [],
   "source": [
    "'''\n",
    "Initialize variables\n",
    "'''\n",
    "\n",
    "#It can be left blank if the txt file is in the same path as the script\n",
    "UNR_SITE_LIST_FILE = ''\n",
    "folder_name = '/Users/jonathanquartin/Documents/Coding/GitHub/um_volcano_project/GALAPAGOS_DATA'\n",
    "\n",
    "lat = round(-.25)\n",
    "lon = round(-91.35)\n",
    "\n",
    "#Format yyyy-dd-MM\n",
    "start_date = '2000-01-06'\n",
    "end_date = '2021-30-09'"
   ]
  },
  {
   "cell_type": "code",
   "execution_count": 3,
   "id": "1a25f4e4",
   "metadata": {},
   "outputs": [],
   "source": [
    "def date_to_decimal_year(date_str):\n",
    "    date_obj = datetime.strptime(date_str, '%Y-%m-%d')\n",
    "    year = date_obj.year\n",
    "    day_of_year = date_obj.timetuple().tm_yday\n",
    "    decimal_year = year + (day_of_year - 1) / 365.0\n",
    "    decimal_year = round(decimal_year,4) \n",
    "    return decimal_year"
   ]
  },
  {
   "cell_type": "code",
   "execution_count": 6,
   "id": "39bf9007",
   "metadata": {},
   "outputs": [],
   "source": [
    "def extract_volcanoes_info(jsonfile, volcanoName):\n",
    "    f = open(jsonfile)\n",
    "    data = json.load(f)\n",
    "    for j in data['features']:\n",
    "        if j['properties']['VolcanoName'] in volcanoName:\n",
    "            \n",
    "            name = (j['properties']['VolcanoName'])\n",
    "            start = datetime.strptime((j['properties']['StartDate']), '%Y%m%d')\n",
    "            try:\n",
    "                end = datetime.strptime((j['properties']['EndDate']), '%Y%m%d')\n",
    "            except:\n",
    "                end = 'None'\n",
    "            print(f'{name} eruption started {start} and ended {end}')"
   ]
  },
  {
   "cell_type": "code",
   "execution_count": 10,
   "id": "f40baa16",
   "metadata": {},
   "outputs": [],
   "source": [
    "# csv_file_name = 'eruptions_galapagos.csv'\n",
    "# #Fix this so that it doesnt overwrite the header\n",
    "\n",
    "# column_names = ['Volcano', 'Start', 'End', 'Max Explosivity']\n",
    "\n",
    "# # Open the CSV file in write mode ('w', 'wb', or 'w+', depending on your Python version).\n",
    "# with open(csv_file_name, mode='w', newline='') as csv_file:\n",
    "#     # Create a DictWriter object with the column names.\n",
    "#     csv_writer = csv.DictWriter(csv_file, fieldnames=column_names)\n",
    "\n",
    "#     # Write the header (column names) to the CSV file.\n",
    "#     csv_writer.writeheader()"
   ]
  },
  {
   "cell_type": "code",
   "execution_count": 10,
   "id": "d5686645",
   "metadata": {},
   "outputs": [],
   "source": [
    "csv_file_name = 'eruptions_reunion.csv'\n",
    "#Fix this so that it doesnt overwrite the header\n",
    "\n",
    "column_names = ['Volcano', 'Start', 'End', 'Max Explosivity']\n",
    "\n",
    "# Open the CSV file in write mode ('w', 'wb', or 'w+', depending on your Python version).\n",
    "with open(csv_file_name, mode='w', newline='') as csv_file:\n",
    "    # Create a DictWriter object with the column names.\n",
    "    csv_writer = csv.DictWriter(csv_file, fieldnames=column_names)\n",
    "\n",
    "    # Write the header (column names) to the CSV file.\n",
    "    csv_writer.writeheader()"
   ]
  },
  {
   "cell_type": "code",
   "execution_count": 15,
   "id": "a9b97c4f",
   "metadata": {},
   "outputs": [],
   "source": [
    "#JQ\n",
    "def extract_volcanoes_csv(jsonfile, volcanoName, csvfile):\n",
    "    f = open(jsonfile)\n",
    "    data = json.load(f)\n",
    "    for j in data['features']:\n",
    "        if j['properties']['VolcanoName'] in volcanoName:\n",
    "            with open(csvfile, mode='a', newline='') as main:\n",
    "                name = j['properties']['VolcanoName']\n",
    "                start = datetime.strptime((j['properties']['StartDate']), '%Y%m%d').date()\n",
    "                try:\n",
    "                    end = datetime.strptime((j['properties']['EndDate']), '%Y%m%d').date()\n",
    "                except:\n",
    "                    end = 'None'\n",
    "                strength = j['properties']['ExplosivityIndexMax']\n",
    "\n",
    "        \n",
    "                csv_writer = csv.writer(main)\n",
    "                csv_writer.writerow([name, start, end, strength])\n",
    "    return\n",
    "            "
   ]
  },
  {
   "cell_type": "code",
   "execution_count": 16,
   "id": "0fc37a52",
   "metadata": {},
   "outputs": [],
   "source": [
    "extract_volcanoes_csv('volcanoes.json', ['Fournaise, Piton de la'], 'eruptions_reunion.csv')"
   ]
  }
 ],
 "metadata": {
  "kernelspec": {
   "display_name": "Python 3 (ipykernel)",
   "language": "python",
   "name": "python3"
  },
  "language_info": {
   "codemirror_mode": {
    "name": "ipython",
    "version": 3
   },
   "file_extension": ".py",
   "mimetype": "text/x-python",
   "name": "python",
   "nbconvert_exporter": "python",
   "pygments_lexer": "ipython3",
   "version": "3.9.12"
  }
 },
 "nbformat": 4,
 "nbformat_minor": 5
}
